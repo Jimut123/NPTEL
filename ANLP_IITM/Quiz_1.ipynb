{
 "cells": [
  {
   "cell_type": "code",
   "execution_count": 21,
   "metadata": {},
   "outputs": [],
   "source": [
    "import nltk\n",
    "from nltk.tokenize import TweetTokenizer\n",
    "tknzr = TweetTokenizer()\n",
    "\n",
    "text = \"\"\"He has three mobile phones \n",
    "            There are several mobile devices under two thousand rupees \n",
    "            The battery life of mobile phones are better now \n",
    "            Can you restrict your mobile phone usage to one hour \n",
    "            The average life of most mobile phones is about two years\"\"\"\n"
   ]
  },
  {
   "cell_type": "code",
   "execution_count": 22,
   "metadata": {},
   "outputs": [],
   "source": [
    "tokens = tknzr.tokenize(text)"
   ]
  },
  {
   "cell_type": "code",
   "execution_count": 23,
   "metadata": {},
   "outputs": [
    {
     "data": {
      "text/plain": [
       "44"
      ]
     },
     "execution_count": 23,
     "metadata": {},
     "output_type": "execute_result"
    }
   ],
   "source": [
    "len(tokens)"
   ]
  },
  {
   "cell_type": "code",
   "execution_count": 24,
   "metadata": {},
   "outputs": [
    {
     "name": "stdout",
     "output_type": "stream",
     "text": [
      "{'He': 1, 'has': 1, 'three': 1, 'mobile': 5, 'phones': 3, 'There': 1, 'are': 2, 'several': 1, 'devices': 1, 'under': 1, 'two': 2, 'thousand': 1, 'rupees': 1, 'The': 2, 'battery': 1, 'life': 2, 'of': 2, 'better': 1, 'now': 1, 'Can': 1, 'you': 1, 'restrict': 1, 'your': 1, 'phone': 1, 'usage': 1, 'to': 1, 'one': 1, 'hour': 1, 'average': 1, 'most': 1, 'is': 1, 'about': 1, 'years': 1}\n"
     ]
    }
   ],
   "source": [
    "fdist1 = nltk.FreqDist(tokens)\n",
    "\n",
    "filtered_word_freq = dict((word, freq) for word, freq in fdist1.items() if not word.isdigit())\n",
    "\n",
    "print(filtered_word_freq)"
   ]
  },
  {
   "cell_type": "code",
   "execution_count": 25,
   "metadata": {},
   "outputs": [
    {
     "data": {
      "text/plain": [
       "33"
      ]
     },
     "execution_count": 25,
     "metadata": {},
     "output_type": "execute_result"
    }
   ],
   "source": [
    "len(filtered_word_freq)"
   ]
  },
  {
   "cell_type": "code",
   "execution_count": null,
   "metadata": {},
   "outputs": [],
   "source": []
  }
 ],
 "metadata": {
  "kernelspec": {
   "display_name": "Python 3",
   "language": "python",
   "name": "python3"
  },
  "language_info": {
   "codemirror_mode": {
    "name": "ipython",
    "version": 3
   },
   "file_extension": ".py",
   "mimetype": "text/x-python",
   "name": "python",
   "nbconvert_exporter": "python",
   "pygments_lexer": "ipython3",
   "version": "3.6.9"
  }
 },
 "nbformat": 4,
 "nbformat_minor": 4
}
